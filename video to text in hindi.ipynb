{
 "cells": [
  {
   "cell_type": "code",
   "execution_count": 5,
   "metadata": {},
   "outputs": [
    {
     "name": "stderr",
     "output_type": "stream",
     "text": [
      "chunk:   3%|█▋                                                            | 36/1292 [00:00<00:03, 352.09it/s, now=None]"
     ]
    },
    {
     "name": "stdout",
     "output_type": "stream",
     "text": [
      "MoviePy - Writing audio in Gramin Aajivika Mission _CM Sir _High Res File.wav\n"
     ]
    },
    {
     "name": "stderr",
     "output_type": "stream",
     "text": [
      "                                                                                                                       "
     ]
    },
    {
     "name": "stdout",
     "output_type": "stream",
     "text": [
      "MoviePy - Done.\n"
     ]
    },
    {
     "name": "stderr",
     "output_type": "stream",
     "text": [
      "\r"
     ]
    }
   ],
   "source": [
    "# Python code to convert video to audio \n",
    "import moviepy.editor as mp \n",
    "  \n",
    "# Insert Local Video File Path  \n",
    "clip = mp.VideoFileClip(\"Gramin Aajivika Mission _CM Sir _High Res File.mp4\") \n",
    "  \n",
    "# Insert Local Audio File Path \n",
    "clip.audio.write_audiofile(\"Gramin Aajivika Mission _CM Sir _High Res File.wav\") "
   ]
  },
  {
   "cell_type": "code",
   "execution_count": 6,
   "metadata": {},
   "outputs": [
    {
     "name": "stdout",
     "output_type": "stream",
     "text": [
      "3.8.1\n",
      "<class 'speech_recognition.AudioData'>\n",
      "Uttarakhand Rajya Gramin aajivika mission vartman Mein Tera Janpad unke vikaskhand on Mein Charan pad tarike Se sanchalit Kiya ja raha hai Jiska antargat do dashmlav 5300000 Garib parivaron ki mahilaon ko sangathit kar 31522 Swayam sahayata samuh 2477 gram Sangathan tatha 126 cluster tariya Sangathan ka gathan Kiya Gaya Hai Uttarakhand Gramin Kshetra ki Swayam sahayata samuh ki mahilaon ke liye Sakthi Garan ajivika samvardhan AVN Gyan Vardhan Hetu Banaya Gaya Hai is app ke Madhyam se Gramin kshetron Mein Swayam sahayata samuh ki mahilaon ko Garib parivaron ko Pandit Dindayal Upadhyay Rashtriya Gramin aajivika mission tatha Dekhe vibhagon se sambandhit Yojana ki jankari mil sake gi ya app mahilaon ke swarojgar AVN aaj ka sambandh Hetu atyant laughed at hoga\n"
     ]
    }
   ],
   "source": [
    "import speech_recognition as sr\n",
    "print(sr.__version__)\n",
    "r = sr.Recognizer()\n",
    "\n",
    "file_audio = sr.AudioFile('Gramin Aajivika Mission _CM Sir _High Res File.wav')\n",
    "\n",
    "with file_audio as source:\n",
    "   audio_text = r.record(source)\n",
    "\n",
    "print(type(audio_text))\n",
    "print(r.recognize_google(audio_text))"
   ]
  },
  {
   "cell_type": "code",
   "execution_count": 9,
   "metadata": {},
   "outputs": [],
   "source": [
    "x=r.recognize_google(audio_text,language='hi-IN')"
   ]
  },
  {
   "cell_type": "code",
   "execution_count": 10,
   "metadata": {},
   "outputs": [
    {
     "data": {
      "text/plain": [
       "'उत्तराखंड राज्य ग्रामीण आजीविका मिशन वर्तमान में 13 जनपदों के पिता ने से विकास खंडों में चरणबद्ध तरीके से संचालित किया जा रहा है जिसके अंतर्गत 2 दशमलव 5300000 गरीब परिवारों की महिलाओं को संगठित कर 31522 स्वयं सहायता समूह 2477 ग्राम संगठन तथा 126 क्लस्टर स्तरीय संगठन का गठन किया गया है उत्तराखंड आजीविका ग्रामीण क्षेत्र की स्वयं सहायता समूह की महिलाओं के लिए सशक्तिकरण आजीविका संवर्धन एवं ज्ञानवर्धक हेतु बनाया गया है इस ऐप के माध्यम से ग्रामीण क्षेत्रों में स्वयं सहायता समूह की महिलाओं को गरीब परिवारों को पंडित दीनदयाल उपाध्याय राष्ट्रीय ग्रामीण आजीविका मिशन तथा विभागों से संबंधित योजनाओं की जानकारी मिल सकेगी महिलाओं के स्वरोजगार एवं आजीविका संवर्धन हेतु अत्यंत लाभ होगा'"
      ]
     },
     "execution_count": 10,
     "metadata": {},
     "output_type": "execute_result"
    }
   ],
   "source": [
    "x"
   ]
  }
 ],
 "metadata": {
  "kernelspec": {
   "display_name": "Python 3",
   "language": "python",
   "name": "python3"
  },
  "language_info": {
   "codemirror_mode": {
    "name": "ipython",
    "version": 3
   },
   "file_extension": ".py",
   "mimetype": "text/x-python",
   "name": "python",
   "nbconvert_exporter": "python",
   "pygments_lexer": "ipython3",
   "version": "3.8.3"
  }
 },
 "nbformat": 4,
 "nbformat_minor": 4
}
